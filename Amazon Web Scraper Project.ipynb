{
 "cells": [
  {
   "cell_type": "code",
   "execution_count": 1,
   "id": "a26eba65",
   "metadata": {},
   "outputs": [],
   "source": [
    "#Import libraries\n",
    "from bs4 import BeautifulSoup\n",
    "import requests\n",
    "import time\n",
    "import datetime\n",
    "\n",
    "import smtplib"
   ]
  },
  {
   "cell_type": "code",
   "execution_count": 24,
   "id": "9d28abb5",
   "metadata": {},
   "outputs": [
    {
     "name": "stdout",
     "output_type": "stream",
     "text": [
      "\n",
      "                   Men's Casio G-Shock 25th Anniversary Limited Edition Digital Stainless Steel and Black Resin Strap Watch GM6900-1, silver, Digital\n",
      "                  \n",
      "\n",
      "\n",
      "\n",
      "\n",
      "\n",
      "                  S$373.71\n",
      "                 \n",
      "\n",
      "\n",
      "                   S$\n",
      "                  \n",
      "\n",
      "                   373\n",
      "                   \n",
      "                    .\n",
      "                   \n",
      "\n",
      "\n",
      "                   71\n",
      "                  \n",
      "\n",
      "\n",
      "\n",
      "\n",
      "\n",
      "\n",
      "\n",
      "\n",
      "\n",
      "\n",
      "\n",
      "\n",
      "\n",
      "\n"
     ]
    }
   ],
   "source": [
    "#Connect to the website\n",
    "\n",
    "URL = 'https://www.amazon.sg/G-Shock-Anniversary-Limited-Stainless-GM6900-1/dp/B084YW83VY/ref=sr_1_14?keywords=men%27s+watches+limited+edition&qid=1690310053&s=fashion&sr=1-14'\n",
    "headers = {\"User-Agent\": \"Mozilla/5.0 (Windows NT 10.0; Win64; x64) AppleWebKit/537.36 (KHTML, like Gecko) Chrome/114.0.0.0 Safari/537.36\", \n",
    "    \"X-Amzn-Trace-Id\": \"Root=1-64be9ae1-20e72a1b04f67fb945b9d327\"}\n",
    "page = requests.get(URL, headers=headers)\n",
    "test1 = BeautifulSoup(page.content, \"html.parser\")\n",
    "test2 = BeautifulSoup(test1.prettify(), \"html.parser\")\n",
    "title = test2.find(id='productTitle').get_text()\n",
    "price = test2.find(id='corePriceDisplay_desktop_feature_div').get_text()\n",
    "\n",
    "print(title)\n",
    "print(price)\n"
   ]
  },
  {
   "cell_type": "code",
   "execution_count": 25,
   "id": "76f0f464",
   "metadata": {},
   "outputs": [
    {
     "name": "stdout",
     "output_type": "stream",
     "text": [
      "Men's Casio G-Shock 25th Anniversary Limited Edition Digital Stainless Steel and Black Resin Strap Watch GM6900-1, silver, Digital\n",
      "373.71\n"
     ]
    }
   ],
   "source": [
    "# Cleaning up the data \n",
    "\n",
    "price = price.strip()[2:8]  #remove dollar sign to input only the values into csv later part\n",
    "title = title.strip()\n",
    "\n",
    "print(title)\n",
    "print(price)\n"
   ]
  },
  {
   "cell_type": "code",
   "execution_count": 26,
   "id": "e31ba53d",
   "metadata": {},
   "outputs": [
    {
     "name": "stdout",
     "output_type": "stream",
     "text": [
      "2023-07-26\n"
     ]
    }
   ],
   "source": [
    "#create a Timestamp for the output to track when data was collected\n",
    "\n",
    "import datetime\n",
    "\n",
    "today = datetime.date.today()\n",
    "\n",
    "print(today)"
   ]
  },
  {
   "cell_type": "code",
   "execution_count": 27,
   "id": "d51cd15e",
   "metadata": {},
   "outputs": [],
   "source": [
    "#To create csv file and write the header and data into it\n",
    "\n",
    "import csv \n",
    "\n",
    "header = ['Title', 'Price', 'Date']\n",
    "data = [title, price, today]\n",
    "\n",
    "\n",
    "with open('CasioG-ShockDataset.csv', 'w', newline='', encoding='UTF8') as f:\n",
    "    writer = csv.writer(f)\n",
    "    writer.writerow(header)\n",
    "    writer.writerow(data)"
   ]
  },
  {
   "cell_type": "code",
   "execution_count": 35,
   "id": "44ff70c6",
   "metadata": {},
   "outputs": [
    {
     "name": "stdout",
     "output_type": "stream",
     "text": [
      "                                               Title   Price        Date\n",
      "0  Men's Casio G-Shock 25th Anniversary Limited E...  373.71  2023-07-26\n",
      "1  Men's Casio G-Shock 25th Anniversary Limited E...  373.71  2023-07-26\n"
     ]
    }
   ],
   "source": [
    "#To read the dataset output from pandas\n",
    "import pandas as pd\n",
    "\n",
    "df = pd.read_csv(r'C:\\Users\\leevc\\Downloads\\CasioG-ShockDataset.csv')\n",
    "\n",
    "print(df)"
   ]
  },
  {
   "cell_type": "code",
   "execution_count": 36,
   "id": "ce7066f4",
   "metadata": {},
   "outputs": [],
   "source": [
    "#To append new data into the csv file \n",
    "\n",
    "with open('CasioG-ShockDataset.csv', 'a+', newline='', encoding='UTF8') as f:\n",
    "    writer = csv.writer(f)\n",
    "    writer.writerow(data)"
   ]
  },
  {
   "cell_type": "code",
   "execution_count": 37,
   "id": "ee0a65cb",
   "metadata": {},
   "outputs": [],
   "source": [
    "#To automate with a script by input the new value to check the price of the item in a require timeframe later \n",
    "\n",
    "def check_price():\n",
    "    URL = 'https://www.amazon.sg/G-Shock-Anniversary-Limited-Stainless-GM6900-1/dp/B084YW83VY/ref=sr_1_14?keywords=men%27s+watches+limited+edition&qid=1690310053&s=fashion&sr=1-14'\n",
    "    headers = {\"User-Agent\": \"Mozilla/5.0 (Windows NT 10.0; Win64; x64) AppleWebKit/537.36 (KHTML, like Gecko) Chrome/114.0.0.0 Safari/537.36\", \n",
    "    \"X-Amzn-Trace-Id\": \"Root=1-64be9ae1-20e72a1b04f67fb945b9d327\"}\n",
    "    page = requests.get(URL, headers=headers)\n",
    "    test1 = BeautifulSoup(page.content, \"html.parser\")\n",
    "    test2 = BeautifulSoup(test1.prettify(), \"html.parser\")\n",
    "    title = test2.find(id='productTitle').get_text()\n",
    "    price = test2.find(id='corePriceDisplay_desktop_feature_div').get_text()\n",
    "    \n",
    "    price = price.strip()[2:8]  \n",
    "    title = title.strip()\n",
    "    \n",
    "    import datetime\n",
    "\n",
    "    today = datetime.date.today()\n",
    "\n",
    "    import csv \n",
    "\n",
    "    header = ['Title', 'Price', 'Date']\n",
    "    data = [title, price, today]\n",
    "\n",
    "\n",
    "    with open('CasioG-ShockDataset.csv', 'a+', newline='', encoding='UTF8') as f:\n",
    "        writer = csv.writer(f)\n",
    "        writer.writerow(data)\n",
    "    "
   ]
  },
  {
   "cell_type": "code",
   "execution_count": null,
   "id": "b387da9e",
   "metadata": {},
   "outputs": [],
   "source": [
    "#To run the check_price() with a timer and update the new data into the csv file\n",
    "#Example below to set timer in 24 hours \n",
    "\n",
    "while(True):\n",
    "    check_price()\n",
    "    time.sleep(86400)\n"
   ]
  },
  {
   "cell_type": "code",
   "execution_count": 1,
   "id": "f9346984",
   "metadata": {},
   "outputs": [
    {
     "name": "stdout",
     "output_type": "stream",
     "text": [
      "                                               Title   Price        Date\n",
      "0  Men's Casio G-Shock 25th Anniversary Limited E...  373.71  2023-07-26\n",
      "1  Men's Casio G-Shock 25th Anniversary Limited E...  373.71  2023-07-26\n",
      "2  Men's Casio G-Shock 25th Anniversary Limited E...  373.71  2023-07-26\n",
      "3  Men's Casio G-Shock 25th Anniversary Limited E...  373.71  2023-07-26\n"
     ]
    }
   ],
   "source": [
    "#To read the dataset output from pandas\n",
    "import pandas as pd\n",
    "\n",
    "df = pd.read_csv(r'C:\\Users\\leevc\\Downloads\\CasioG-ShockDataset.csv')\n",
    "\n",
    "print(df)"
   ]
  }
 ],
 "metadata": {
  "kernelspec": {
   "display_name": "Python 3 (ipykernel)",
   "language": "python",
   "name": "python3"
  },
  "language_info": {
   "codemirror_mode": {
    "name": "ipython",
    "version": 3
   },
   "file_extension": ".py",
   "mimetype": "text/x-python",
   "name": "python",
   "nbconvert_exporter": "python",
   "pygments_lexer": "ipython3",
   "version": "3.10.9"
  }
 },
 "nbformat": 4,
 "nbformat_minor": 5
}
